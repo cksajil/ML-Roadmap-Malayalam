{
  "nbformat": 4,
  "nbformat_minor": 0,
  "metadata": {
    "colab": {
      "provenance": [],
      "gpuType": "T4"
    },
    "kernelspec": {
      "name": "python3",
      "display_name": "Python 3"
    },
    "language_info": {
      "name": "python"
    },
    "accelerator": "GPU"
  },
  "cells": [
    {
      "cell_type": "markdown",
      "source": [
        "# Image Fundamentals"
      ],
      "metadata": {
        "id": "0FNwqYwY3MMK"
      }
    },
    {
      "cell_type": "markdown",
      "source": [
        "Images are basically 2D or 3D arrays where each element in the array represent a pixel value"
      ],
      "metadata": {
        "id": "7c-du0aG3QcA"
      }
    },
    {
      "cell_type": "markdown",
      "source": [
        "## Grey scale Image"
      ],
      "metadata": {
        "id": "WWO-yMH33TN2"
      }
    },
    {
      "cell_type": "code",
      "source": [
        "import numpy as np\n",
        "import pandas as pd\n",
        "import matplotlib.pyplot as plt\n",
        "from tensorflow.keras.datasets import mnist\n",
        "\n",
        "pd.set_option('display.max_colwidth', None)"
      ],
      "metadata": {
        "id": "1altNDSG3VsF"
      },
      "execution_count": null,
      "outputs": []
    },
    {
      "cell_type": "code",
      "source": [
        "(x_train, y_train), (x_test, y_test) = mnist.load_data()\n",
        "i = 121\n",
        "\n",
        "plt.figure(figsize=(2,2))\n",
        "plt.imshow(x_train[i], cmap='gray')\n",
        "plt.title(f\"Label: {y_train[i]}\")\n",
        "plt.show()\n",
        "data = pd.DataFrame(x_train[i])\n",
        "print(data.to_string())"
      ],
      "metadata": {
        "colab": {
          "base_uri": "https://localhost:8080/",
          "height": 760
        },
        "id": "U3Zx2Uxf3Y9g",
        "outputId": "980cd920-d21a-4876-b4d7-3a5775bae51b"
      },
      "execution_count": null,
      "outputs": [
        {
          "output_type": "display_data",
          "data": {
            "text/plain": [
              "<Figure size 200x200 with 1 Axes>"
            ],
            "image/png": "[encoded data removed]"
          },
          "metadata": {}
        },
        {
          "output_type": "stream",
          "name": "stdout",
          "text": [
            "    0   1   2   3   4    5    6    7    8    9    10   11   12   13   14   15   16   17   18   19   20   21   22   23   24  25  26  27\n",
            "0    0   0   0   0   0    0    0    0    0    0    0    0    0    0    0    0    0    0    0    0    0    0    0    0    0   0   0   0\n",
            "1    0   0   0   0   0    0    0    0    0    0    0    0    0    0    0    0    0    0    0    0    0    0    0    0    0   0   0   0\n",
            "2    0   0   0   0   0    0    0    0    0    0    0    0    0    0    0    0    0    0    0    0    0    0    0    0    0   0   0   0\n",
            "3    0   0   0   0   0    0    0    0    0    0    0    0    0    0    0    0    0    0    0    0    0    0    0    0    0   0   0   0\n",
            "4    0   0   0   0   0    0    0    0    0    0    0    0   22  183  252  254  252  252  252   76    0    0    0    0    0   0   0   0\n",
            "5    0   0   0   0   0    0    0    0    0    0   85   85  168  250  250  252  250  250  250  250   71    0   43   85   14   0   0   0\n",
            "6    0   0   0   0   0    0    0    0    0  107  252  250  250  250  250  252  250  250  250  250  210    0  127  250  146   0   0   0\n",
            "7    0   0   0   0   0    0    0    0  114  237  252  250  250  250  250  252  250  250  250  250  210    0  127  250  250   0   0   0\n",
            "8    0   0   0   0   0    0    0  107  237  250  252  250  250  250   74   41   41   41   41  217   34    0  127  250  250   0   0   0\n",
            "9    0   0   0   0   0    0   15  148  252  252  254  238  105    0    0    0    0    0    0    0    0    0  128  252  252   0   0   0\n",
            "10   0   0   0   0   0   15  140  250  250  250  167  111    0    0    0    0    0    0    0    0    0    0  127  250  250   0   0   0\n",
            "11   0   0   0   0   0   43  250  250  250  250    0    0    0    0    0    0    0    0    0    0    0    0  127  250  250   0   0   0\n",
            "12   0   0   0   0   0  183  250  250  250  110    0    0    0    0    0    0    0    0    0    0    0   57  210  250  250   0   0   0\n",
            "13   0   0   0   0   0  252  250  250  110    7    0    0    0    0    0    0    0    0    0    0    0   85  250  250  250   0   0   0\n",
            "14   0   0   0   0   0  254  252  252   83    0    0    0    0    0    0    0    0    0    0    0    0   86  252  252  217   0   0   0\n",
            "15   0   0   0   0   0  252  250  250  138   14    0    0    0    0    0    0    0    0    0    0   15  140  250  250   41   0   0   0\n",
            "16   0   0   0   0   0  252  250  250  250   41    0    0    0    0    0    0    0    0    0    0   43  250  250  250   41   0   0   0\n",
            "17   0   0   0   0   0  252  250  250  250  181    0    0    0    0    0    0    0    0    0    0  183  250  250  250   41   0   0   0\n",
            "18   0   0   0   0   0   76  250  250  250  250    0    0    0    0    0    0    0    0    0  177  252  250  250  110    7   0   0   0\n",
            "19   0   0   0   0   0   36  224  252  252  252  219   43   43   43    7    0   15   43  183  252  255  252  126    0    0   0   0   0\n",
            "20   0   0   0   0   0    0   85  250  250  250  252  250  250  250  111   86  140  250  250  250  252  222   83    0    0   0   0   0\n",
            "21   0   0   0   0   0    0   42  188  250  250  252  250  250  250  250  252  250  250  250  250  126   83    0    0    0   0   0   0\n",
            "22   0   0   0   0   0    0    0  127  250  250  252  250  250  250  250  252  250  250  137   83    0    0    0    0    0   0   0   0\n",
            "23   0   0   0   0   0    0    0   21   41  217  252  250  250  250  250  217   41   41   14    0    0    0    0    0    0   0   0   0\n",
            "24   0   0   0   0   0    0    0    0    0    0    0    0    0    0    0    0    0    0    0    0    0    0    0    0    0   0   0   0\n",
            "25   0   0   0   0   0    0    0    0    0    0    0    0    0    0    0    0    0    0    0    0    0    0    0    0    0   0   0   0\n",
            "26   0   0   0   0   0    0    0    0    0    0    0    0    0    0    0    0    0    0    0    0    0    0    0    0    0   0   0   0\n",
            "27   0   0   0   0   0    0    0    0    0    0    0    0    0    0    0    0    0    0    0    0    0    0    0    0    0   0   0   0\n"
          ]
        }
      ]
    },
    {
      "cell_type": "markdown",
      "source": [
        "## Black and White image"
      ],
      "metadata": {
        "id": "ojyCQVxl3fRV"
      }
    },
    {
      "cell_type": "code",
      "source": [
        "x_train[i] = np.where(x_train[i] > 128, 0, 255)\n",
        "\n",
        "plt.figure(figsize=(2,2))\n",
        "plt.imshow(x_train[i], cmap='gray')\n",
        "plt.title(f\"Label: {y_train[i]}\")\n",
        "plt.show()\n",
        "data = pd.DataFrame(x_train[i])\n",
        "print(data.to_string())"
      ],
      "metadata": {
        "colab": {
          "base_uri": "https://localhost:8080/",
          "height": 760
        },
        "id": "v17MjsDm3eUv",
        "outputId": "2324527e-252f-480f-c0ca-48c8a7825171"
      },
      "execution_count": null,
      "outputs": [
        {
          "output_type": "display_data",
          "data": {
            "text/plain": [
              "<Figure size 200x200 with 1 Axes>"
            ],
            "image/png": "[encoded data removed]"
          },
          "metadata": {}
        },
        {
          "output_type": "stream",
          "name": "stdout",
          "text": [
            "     0    1    2    3    4    5    6    7    8    9    10   11   12   13   14   15   16   17   18   19   20   21   22   23   24   25   26   27\n",
            "0   255  255  255  255  255  255  255  255  255  255  255  255  255  255  255  255  255  255  255  255  255  255  255  255  255  255  255  255\n",
            "1   255  255  255  255  255  255  255  255  255  255  255  255  255  255  255  255  255  255  255  255  255  255  255  255  255  255  255  255\n",
            "2   255  255  255  255  255  255  255  255  255  255  255  255  255  255  255  255  255  255  255  255  255  255  255  255  255  255  255  255\n",
            "3   255  255  255  255  255  255  255  255  255  255  255  255  255  255  255  255  255  255  255  255  255  255  255  255  255  255  255  255\n",
            "4   255  255  255  255  255  255  255  255  255  255  255  255  255  255  255  255  255  255  255  255  255  255  255  255  255  255  255  255\n",
            "5   255  255  255  255  255  255  255  255  255  255  255  255  255  255  255  255  255  255  255  255  255  255  255  255  255  255  255  255\n",
            "6   255  255  255  255  255  255  255  255  255  255  255  255  255  255  255  255  255  255  255  255  255  255  255  255  255  255  255  255\n",
            "7   255  255  255  255  255  255  255  255  255  255  255  255  255  255  255  255  255  255  255  255  255  255  255  255  255  255  255  255\n",
            "8   255  255  255  255  255  255  255  255  255  255  255  255  255  255  255    0    0    0    0    0    0  255  255  255  255  255  255  255\n",
            "9   255  255  255  255  255  255  255  255  255    0    0    0    0    0    0    0    0    0    0    0    0    0  255  255  255  255  255  255\n",
            "10  255  255  255  255  255  255    0    0    0    0    0    0    0    0    0    0    0    0    0    0    0    0  255  255  255  255  255  255\n",
            "11  255  255  255  255  255  255    0    0    0    0    0  255  255  255  255  255  255  255  255    0    0    0  255  255  255  255  255  255\n",
            "12  255  255  255  255  255  255    0    0  255  255  255  255  255  255  255  255  255  255    0    0    0  255  255  255  255  255  255  255\n",
            "13  255  255  255  255  255  255  255  255  255  255  255  255  255  255  255  255  255    0    0    0    0  255  255  255  255  255  255  255\n",
            "14  255  255  255  255  255  255  255  255  255  255  255  255  255  255  255  255  255    0    0    0  255  255  255  255  255  255  255  255\n",
            "15  255  255  255  255  255  255  255  255  255  255  255  255  255  255  255  255    0    0    0  255  255  255  255  255  255  255  255  255\n",
            "16  255  255  255  255  255  255  255  255  255  255  255  255  255  255  255    0    0    0  255  255  255  255  255  255  255  255  255  255\n",
            "17  255  255  255  255  255  255  255  255  255  255  255  255  255  255    0    0    0  255  255  255  255  255  255  255  255  255  255  255\n",
            "18  255  255  255  255  255  255  255  255  255  255  255  255  255    0    0    0  255  255  255  255  255  255  255  255  255  255  255  255\n",
            "19  255  255  255  255  255  255  255  255  255  255  255  255    0    0    0  255  255  255  255  255  255  255  255  255  255  255  255  255\n",
            "20  255  255  255  255  255  255  255  255  255  255  255    0    0    0  255  255  255  255  255  255  255  255  255  255  255  255  255  255\n",
            "21  255  255  255  255  255  255  255  255  255  255    0    0    0  255  255  255  255  255  255  255  255  255  255  255  255  255  255  255\n",
            "22  255  255  255  255  255  255  255  255  255    0    0    0  255  255  255  255  255  255  255  255  255  255  255  255  255  255  255  255\n",
            "23  255  255  255  255  255  255  255  255    0    0    0  255  255  255  255  255  255  255  255  255  255  255  255  255  255  255  255  255\n",
            "24  255  255  255  255  255  255  255    0    0    0  255  255  255  255  255  255  255  255  255  255  255  255  255  255  255  255  255  255\n",
            "25  255  255  255  255  255  255  255    0    0    0  255  255  255  255  255  255  255  255  255  255  255  255  255  255  255  255  255  255\n",
            "26  255  255  255  255  255  255  255    0    0  255  255  255  255  255  255  255  255  255  255  255  255  255  255  255  255  255  255  255\n",
            "27  255  255  255  255  255  255  255    0    0  255  255  255  255  255  255  255  255  255  255  255  255  255  255  255  255  255  255  255\n"
          ]
        }
      ]
    },
    {
      "cell_type": "markdown",
      "source": [
        "Please submit your feedback via https://futurepicx.com/feedback?id=2487AD91-5429-431C-902C-451AD5055F1A"
      ],
      "metadata": {
        "id": "VHNrF3J4msG4"
      }
    },
    {
      "cell_type": "code",
      "execution_count": null,
      "metadata": {
        "id": "UksOXc4JmhgD"
      },
      "outputs": [],
      "source": [
        "import tensorflow as tf\n",
        "from tensorflow.keras.models import Sequential\n",
        "from tensorflow.keras.layers import Input, Flatten, Dense, Activation\n",
        "from tensorflow.keras.utils import to_categorical\n",
        "import matplotlib.pyplot as plt"
      ]
    },
    {
      "cell_type": "code",
      "source": [
        "# Preprocess the data\n",
        "y_train = to_categorical(y_train, num_classes=10)\n",
        "y_test = to_categorical(y_test, num_classes=10)"
      ],
      "metadata": {
        "id": "Eh2m9M18n5gM"
      },
      "execution_count": null,
      "outputs": []
    },
    {
      "cell_type": "code",
      "source": [
        "model = Sequential()\n",
        "model.add(Input(shape=(28, 28, 1)))\n",
        "model.add(Flatten())\n",
        "model.add(Dense(64, activation='relu'))\n",
        "model.add(Dense(32, activation='relu'))\n",
        "model.add(Dense(10, activation='softmax'))"
      ],
      "metadata": {
        "id": "LYQ3SbzRoV83"
      },
      "execution_count": null,
      "outputs": []
    },
    {
      "cell_type": "code",
      "source": [
        "# Compile the model\n",
        "model.compile(optimizer='adam',\n",
        "              loss='categorical_crossentropy',\n",
        "              metrics=['accuracy'])"
      ],
      "metadata": {
        "id": "LX1QFiQaoa8I"
      },
      "execution_count": null,
      "outputs": []
    },
    {
      "cell_type": "code",
      "source": [
        "# Print the model summary\n",
        "model.summary()"
      ],
      "metadata": {
        "colab": {
          "base_uri": "https://localhost:8080/",
          "height": 257
        },
        "id": "1Y-u2Rctocxh",
        "outputId": "04181e53-b45e-469e-8f64-35686f2f5ca0"
      },
      "execution_count": null,
      "outputs": [
        {
          "output_type": "display_data",
          "data": {
            "text/plain": [
              "\u001b[1mModel: \"sequential_3\"\u001b[0m\n"
            ],
            "text/html": [
              "<pre style=\"white-space:pre;overflow-x:auto;line-height:normal;font-family:Menlo,'DejaVu Sans Mono',consolas,'Courier New',monospace\"><span style=\"font-weight: bold\">Model: \"sequential_3\"</span>\n",
              "</pre>\n"
            ]
          },
          "metadata": {}
        },
        {
          "output_type": "display_data",
          "data": {
            "text/plain": [
              "┏━━━━━━━━━━━━━━━━━━━━━━━━━━━━━━━━━┳━━━━━━━━━━━━━━━━━━━━━━━━┳━━━━━━━━━━━━━━━┓\n",
              "┃\u001b[1m \u001b[0m\u001b[1mLayer (type)                   \u001b[0m\u001b[1m \u001b[0m┃\u001b[1m \u001b[0m\u001b[1mOutput Shape          \u001b[0m\u001b[1m \u001b[0m┃\u001b[1m \u001b[0m\u001b[1m      Param #\u001b[0m\u001b[1m \u001b[0m┃\n",
              "┡━━━━━━━━━━━━━━━━━━━━━━━━━━━━━━━━━╇━━━━━━━━━━━━━━━━━━━━━━━━╇━━━━━━━━━━━━━━━┩\n",
              "│ flatten_3 (\u001b[38;5;33mFlatten\u001b[0m)             │ (\u001b[38;5;45mNone\u001b[0m, \u001b[38;5;34m784\u001b[0m)            │             \u001b[38;5;34m0\u001b[0m │\n",
              "├─────────────────────────────────┼────────────────────────┼───────────────┤\n",
              "│ dense_10 (\u001b[38;5;33mDense\u001b[0m)                │ (\u001b[38;5;45mNone\u001b[0m, \u001b[38;5;34m64\u001b[0m)             │        \u001b[38;5;34m50,240\u001b[0m │\n",
              "├─────────────────────────────────┼────────────────────────┼───────────────┤\n",
              "│ dense_11 (\u001b[38;5;33mDense\u001b[0m)                │ (\u001b[38;5;45mNone\u001b[0m, \u001b[38;5;34m32\u001b[0m)             │         \u001b[38;5;34m2,080\u001b[0m │\n",
              "├─────────────────────────────────┼────────────────────────┼───────────────┤\n",
              "│ dense_12 (\u001b[38;5;33mDense\u001b[0m)                │ (\u001b[38;5;45mNone\u001b[0m, \u001b[38;5;34m10\u001b[0m)             │           \u001b[38;5;34m330\u001b[0m │\n",
              "└─────────────────────────────────┴────────────────────────┴───────────────┘\n"
            ],
            "text/html": [
              "<pre style=\"white-space:pre;overflow-x:auto;line-height:normal;font-family:Menlo,'DejaVu Sans Mono',consolas,'Courier New',monospace\">┏━━━━━━━━━━━━━━━━━━━━━━━━━━━━━━━━━┳━━━━━━━━━━━━━━━━━━━━━━━━┳━━━━━━━━━━━━━━━┓\n",
              "┃<span style=\"font-weight: bold\"> Layer (type)                    </span>┃<span style=\"font-weight: bold\"> Output Shape           </span>┃<span style=\"font-weight: bold\">       Param # </span>┃\n",
              "┡━━━━━━━━━━━━━━━━━━━━━━━━━━━━━━━━━╇━━━━━━━━━━━━━━━━━━━━━━━━╇━━━━━━━━━━━━━━━┩\n",
              "│ flatten_3 (<span style=\"color: #0087ff; text-decoration-color: #0087ff\">Flatten</span>)             │ (<span style=\"color: #00d7ff; text-decoration-color: #00d7ff\">None</span>, <span style=\"color: #00af00; text-decoration-color: #00af00\">784</span>)            │             <span style=\"color: #00af00; text-decoration-color: #00af00\">0</span> │\n",
              "├─────────────────────────────────┼────────────────────────┼───────────────┤\n",
              "│ dense_10 (<span style=\"color: #0087ff; text-decoration-color: #0087ff\">Dense</span>)                │ (<span style=\"color: #00d7ff; text-decoration-color: #00d7ff\">None</span>, <span style=\"color: #00af00; text-decoration-color: #00af00\">64</span>)             │        <span style=\"color: #00af00; text-decoration-color: #00af00\">50,240</span> │\n",
              "├─────────────────────────────────┼────────────────────────┼───────────────┤\n",
              "│ dense_11 (<span style=\"color: #0087ff; text-decoration-color: #0087ff\">Dense</span>)                │ (<span style=\"color: #00d7ff; text-decoration-color: #00d7ff\">None</span>, <span style=\"color: #00af00; text-decoration-color: #00af00\">32</span>)             │         <span style=\"color: #00af00; text-decoration-color: #00af00\">2,080</span> │\n",
              "├─────────────────────────────────┼────────────────────────┼───────────────┤\n",
              "│ dense_12 (<span style=\"color: #0087ff; text-decoration-color: #0087ff\">Dense</span>)                │ (<span style=\"color: #00d7ff; text-decoration-color: #00d7ff\">None</span>, <span style=\"color: #00af00; text-decoration-color: #00af00\">10</span>)             │           <span style=\"color: #00af00; text-decoration-color: #00af00\">330</span> │\n",
              "└─────────────────────────────────┴────────────────────────┴───────────────┘\n",
              "</pre>\n"
            ]
          },
          "metadata": {}
        },
        {
          "output_type": "display_data",
          "data": {
            "text/plain": [
              "\u001b[1m Total params: \u001b[0m\u001b[38;5;34m52,650\u001b[0m (205.66 KB)\n"
            ],
            "text/html": [
              "<pre style=\"white-space:pre;overflow-x:auto;line-height:normal;font-family:Menlo,'DejaVu Sans Mono',consolas,'Courier New',monospace\"><span style=\"font-weight: bold\"> Total params: </span><span style=\"color: #00af00; text-decoration-color: #00af00\">52,650</span> (205.66 KB)\n",
              "</pre>\n"
            ]
          },
          "metadata": {}
        },
        {
          "output_type": "display_data",
          "data": {
            "text/plain": [
              "\u001b[1m Trainable params: \u001b[0m\u001b[38;5;34m52,650\u001b[0m (205.66 KB)\n"
            ],
            "text/html": [
              "<pre style=\"white-space:pre;overflow-x:auto;line-height:normal;font-family:Menlo,'DejaVu Sans Mono',consolas,'Courier New',monospace\"><span style=\"font-weight: bold\"> Trainable params: </span><span style=\"color: #00af00; text-decoration-color: #00af00\">52,650</span> (205.66 KB)\n",
              "</pre>\n"
            ]
          },
          "metadata": {}
        },
        {
          "output_type": "display_data",
          "data": {
            "text/plain": [
              "\u001b[1m Non-trainable params: \u001b[0m\u001b[38;5;34m0\u001b[0m (0.00 B)\n"
            ],
            "text/html": [
              "<pre style=\"white-space:pre;overflow-x:auto;line-height:normal;font-family:Menlo,'DejaVu Sans Mono',consolas,'Courier New',monospace\"><span style=\"font-weight: bold\"> Non-trainable params: </span><span style=\"color: #00af00; text-decoration-color: #00af00\">0</span> (0.00 B)\n",
              "</pre>\n"
            ]
          },
          "metadata": {}
        }
      ]
    },
    {
      "cell_type": "code",
      "source": [
        "# Train the model\n",
        "history = model.fit(x_train,\n",
        "                    y_train,\n",
        "                    validation_data=(x_test, y_test),\n",
        "                    epochs=10,\n",
        "                    batch_size=32)"
      ],
      "metadata": {
        "colab": {
          "base_uri": "https://localhost:8080/"
        },
        "id": "yBIoGmrNofTc",
        "outputId": "291da466-a347-483c-90d0-6e4add1c68b3"
      },
      "execution_count": null,
      "outputs": [
        {
          "output_type": "stream",
          "name": "stdout",
          "text": [
            "Epoch 1/10\n",
            "\u001b[1m1875/1875\u001b[0m \u001b[32m━━━━━━━━━━━━━━━━━━━━\u001b[0m\u001b[37m\u001b[0m \u001b[1m7s\u001b[0m 3ms/step - accuracy: 0.7358 - loss: 4.1336 - val_accuracy: 0.8840 - val_loss: 0.4813\n",
            "Epoch 2/10\n",
            "\u001b[1m1875/1875\u001b[0m \u001b[32m━━━━━━━━━━━━━━━━━━━━\u001b[0m\u001b[37m\u001b[0m \u001b[1m10s\u001b[0m 3ms/step - accuracy: 0.8938 - loss: 0.3947 - val_accuracy: 0.9258 - val_loss: 0.3160\n",
            "Epoch 3/10\n",
            "\u001b[1m1875/1875\u001b[0m \u001b[32m━━━━━━━━━━━━━━━━━━━━\u001b[0m\u001b[37m\u001b[0m \u001b[1m11s\u001b[0m 3ms/step - accuracy: 0.9290 - loss: 0.2571 - val_accuracy: 0.9338 - val_loss: 0.2640\n",
            "Epoch 4/10\n",
            "\u001b[1m1875/1875\u001b[0m \u001b[32m━━━━━━━━━━━━━━━━━━━━\u001b[0m\u001b[37m\u001b[0m \u001b[1m5s\u001b[0m 2ms/step - accuracy: 0.9431 - loss: 0.2043 - val_accuracy: 0.9426 - val_loss: 0.1994\n",
            "Epoch 5/10\n",
            "\u001b[1m1875/1875\u001b[0m \u001b[32m━━━━━━━━━━━━━━━━━━━━\u001b[0m\u001b[37m\u001b[0m \u001b[1m5s\u001b[0m 2ms/step - accuracy: 0.9546 - loss: 0.1669 - val_accuracy: 0.9429 - val_loss: 0.2197\n",
            "Epoch 6/10\n",
            "\u001b[1m1875/1875\u001b[0m \u001b[32m━━━━━━━━━━━━━━━━━━━━\u001b[0m\u001b[37m\u001b[0m \u001b[1m5s\u001b[0m 3ms/step - accuracy: 0.9585 - loss: 0.1478 - val_accuracy: 0.9509 - val_loss: 0.1901\n",
            "Epoch 7/10\n",
            "\u001b[1m1875/1875\u001b[0m \u001b[32m━━━━━━━━━━━━━━━━━━━━\u001b[0m\u001b[37m\u001b[0m \u001b[1m10s\u001b[0m 3ms/step - accuracy: 0.9637 - loss: 0.1250 - val_accuracy: 0.9558 - val_loss: 0.1686\n",
            "Epoch 8/10\n",
            "\u001b[1m1875/1875\u001b[0m \u001b[32m━━━━━━━━━━━━━━━━━━━━\u001b[0m\u001b[37m\u001b[0m \u001b[1m5s\u001b[0m 2ms/step - accuracy: 0.9679 - loss: 0.1138 - val_accuracy: 0.9587 - val_loss: 0.1667\n",
            "Epoch 9/10\n",
            "\u001b[1m1875/1875\u001b[0m \u001b[32m━━━━━━━━━━━━━━━━━━━━\u001b[0m\u001b[37m\u001b[0m \u001b[1m5s\u001b[0m 3ms/step - accuracy: 0.9686 - loss: 0.1051 - val_accuracy: 0.9563 - val_loss: 0.1794\n",
            "Epoch 10/10\n",
            "\u001b[1m1875/1875\u001b[0m \u001b[32m━━━━━━━━━━━━━━━━━━━━\u001b[0m\u001b[37m\u001b[0m \u001b[1m5s\u001b[0m 3ms/step - accuracy: 0.9713 - loss: 0.1008 - val_accuracy: 0.9571 - val_loss: 0.1713\n"
          ]
        }
      ]
    },
    {
      "cell_type": "code",
      "source": [
        "# Plot train and test loss curves\n",
        "plt.figure(figsize=(10, 5))\n",
        "plt.plot(history.history['loss'], label='Training Loss')\n",
        "plt.plot(history.history['val_loss'], label='Validation Loss')\n",
        "plt.title('Loss Curves')\n",
        "plt.xlabel('Epochs')\n",
        "plt.ylabel('Loss')\n",
        "plt.legend()\n",
        "plt.show()"
      ],
      "metadata": {
        "colab": {
          "base_uri": "https://localhost:8080/",
          "height": 487
        },
        "id": "q6tidNmPpJ-m",
        "outputId": "f05f718a-b027-4dc2-9976-a02b2f72a947"
      },
      "execution_count": null,
      "outputs": [
        {
          "output_type": "display_data",
          "data": {
            "text/plain": [
              "<Figure size 1000x500 with 1 Axes>"
            ],
            "image/png": "[encoded data removed]"
          },
          "metadata": {}
        }
      ]
    },
    {
      "cell_type": "code",
      "source": [
        "index =121\n",
        "probs = model.predict(x_test[index].reshape(1,28,28,1))\n",
        "print(probs)"
      ],
      "metadata": {
        "colab": {
          "base_uri": "https://localhost:8080/"
        },
        "id": "4VflE6n7jX22",
        "outputId": "f470bac2-7735-4fba-a45d-199d4d419569"
      },
      "execution_count": null,
      "outputs": [
        {
          "output_type": "stream",
          "name": "stdout",
          "text": [
            "\u001b[1m1/1\u001b[0m \u001b[32m━━━━━━━━━━━━━━━━━━━━\u001b[0m\u001b[37m\u001b[0m \u001b[1m0s\u001b[0m 213ms/step\n",
            "[[5.0288881e-04 7.5911967e-20 3.5316637e-04 2.1485703e-06 9.9814296e-01\n",
            "  5.5673398e-05 2.9153018e-05 1.2543494e-07 9.0930313e-05 8.2293176e-04]]\n"
          ]
        }
      ]
    },
    {
      "cell_type": "code",
      "source": [
        "np.argmax(probs)"
      ],
      "metadata": {
        "colab": {
          "base_uri": "https://localhost:8080/"
        },
        "id": "OKLNM8-xFVTd",
        "outputId": "52973ba5-321f-4dbf-8cc3-68a9f61baf4f"
      },
      "execution_count": null,
      "outputs": [
        {
          "output_type": "execute_result",
          "data": {
            "text/plain": [
              "np.int64(4)"
            ]
          },
          "metadata": {},
          "execution_count": 17
        }
      ]
    },
    {
      "cell_type": "code",
      "source": [
        "model.save('my_model.keras')"
      ],
      "metadata": {
        "id": "2i_o9-cwndGB"
      },
      "execution_count": null,
      "outputs": []
    },
    {
      "cell_type": "code",
      "source": [],
      "metadata": {
        "id": "rlqMgNb5FrbD"
      },
      "execution_count": null,
      "outputs": []
    }
  ]
}